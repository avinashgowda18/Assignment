{
 "cells": [
  {
   "cell_type": "markdown",
   "metadata": {},
   "source": [
    "### Topic: Strings \n",
    "\n",
    "    - Escape Commands\n",
    "    - Indexing and Slicing\n",
    "    - Concatenation\n",
    "    - Print formatting\n",
    "    - Methods in Strings    "
   ]
  },
  {
   "cell_type": "markdown",
   "metadata": {},
   "source": [
    "#### 1. Write a python program that prints the following sentence in a single line, as it is."
   ]
  },
  {
   "cell_type": "markdown",
   "metadata": {},
   "source": [
    "\" Raghav was minuting the meeting so that he doesn't miss out on the points discussed. He wrote down in his regular notebook that he always keeps in his backpack & later saves that on his computer in the path e:\\meetings\\notebook\\today.\"\n",
    "\n",
    "**Note:**\n",
    "\n",
    "    Use single quote while creating the string."
   ]
  },
  {
   "cell_type": "code",
   "execution_count": 1,
   "metadata": {},
   "outputs": [
    {
     "name": "stdout",
     "output_type": "stream",
     "text": [
      "Raghav was minuting the meeting so that he doesn't miss out on the points discussed. He wrote down in his regular notebook that he always keeps in his backpack & later saves that on his computer in the path e:\\meetings\n",
      "otebook\today.\n"
     ]
    }
   ],
   "source": [
    "print('Raghav was minuting the meeting so that he doesn\\'t miss out on the points discussed. He wrote down in his regular notebook that he always keeps in his backpack & later saves that on his computer in the path e:\\meetings\\notebook\\today.'\n",
    "   )"
   ]
  },
  {
   "cell_type": "code",
   "execution_count": null,
   "metadata": {},
   "outputs": [],
   "source": []
  },
  {
   "cell_type": "code",
   "execution_count": null,
   "metadata": {},
   "outputs": [],
   "source": []
  },
  {
   "cell_type": "code",
   "execution_count": null,
   "metadata": {},
   "outputs": [],
   "source": []
  },
  {
   "cell_type": "markdown",
   "metadata": {},
   "source": [
    "#### 2. Write a python program that takes user's name and year of birth as input and prints out the info as explained below.\n",
    "\n",
    "\n",
    "**Example**\n",
    "\n",
    "Input : \n",
    "\n",
    "    - name, year of birth\n",
    "\n",
    "Output: \n",
    "\n",
    "\n",
    "    \"Welcome Raghav, we have registered your year of birth as 1989.\n",
    "                 \n",
    "     You are 31 years old now! \"\n",
    "     \n",
    "     \n",
    "##### Note:\n",
    "\n",
    "Solve the above in all the following methods.\n",
    "\n",
    "    - String concatenation \n",
    "    - .format() method\n",
    "    - f-string method"
   ]
  },
  {
   "cell_type": "code",
   "execution_count": 27,
   "metadata": {},
   "outputs": [
    {
     "name": "stdout",
     "output_type": "stream",
     "text": [
      " welcome avinash, we have registered your year of birth as 1989\n"
     ]
    }
   ],
   "source": [
    "name='avinash,'\n",
    "year=1989\n",
    "print(' welcome ' + name + ' we have registered your year of birth as ' + str(year))"
   ]
  },
  {
   "cell_type": "code",
   "execution_count": 33,
   "metadata": {},
   "outputs": [
    {
     "name": "stdout",
     "output_type": "stream",
     "text": [
      "welcome avinash, we have registered your year of birth as 1989\n"
     ]
    }
   ],
   "source": [
    "print('welcome {}, we have registered your year of birth as {}' .format('avinash', '1989'))"
   ]
  },
  {
   "cell_type": "code",
   "execution_count": null,
   "metadata": {},
   "outputs": [],
   "source": [
    "print(f'{name} has scored {result} percent.\\n{name} has secured the {place} place')"
   ]
  },
  {
   "cell_type": "code",
   "execution_count": 39,
   "metadata": {},
   "outputs": [
    {
     "name": "stdout",
     "output_type": "stream",
     "text": [
      " welcome avinash, we have registered your year of birth as 1989\n"
     ]
    }
   ],
   "source": [
    "print(f' welcome {name} we have registered your year of birth as {year}')"
   ]
  },
  {
   "cell_type": "code",
   "execution_count": null,
   "metadata": {},
   "outputs": [],
   "source": []
  },
  {
   "cell_type": "markdown",
   "metadata": {},
   "source": [
    "#### 3. From the given sentence, form the expected sentence."
   ]
  },
  {
   "cell_type": "markdown",
   "metadata": {},
   "source": [
    "Given Sentence:\n",
    "\n",
    "    \"I started Python Programming today. The day is wonderful\"\n",
    "    \n",
    "Expected Sentence:\n",
    "\n",
    "    \"Python Programming is wonderful\""
   ]
  },
  {
   "cell_type": "code",
   "execution_count": 46,
   "metadata": {},
   "outputs": [],
   "source": [
    "s=\"I started Python Programming today. The day is wonderful\""
   ]
  },
  {
   "cell_type": "code",
   "execution_count": 72,
   "metadata": {},
   "outputs": [
    {
     "data": {
      "text/plain": [
       "'day is wonderful'"
      ]
     },
     "execution_count": 72,
     "metadata": {},
     "output_type": "execute_result"
    }
   ],
   "source": [
    "s[10:28]\n",
    "s[40:60]"
   ]
  },
  {
   "cell_type": "code",
   "execution_count": null,
   "metadata": {},
   "outputs": [],
   "source": []
  },
  {
   "cell_type": "code",
   "execution_count": null,
   "metadata": {},
   "outputs": [],
   "source": []
  },
  {
   "cell_type": "code",
   "execution_count": null,
   "metadata": {},
   "outputs": [],
   "source": []
  },
  {
   "cell_type": "markdown",
   "metadata": {},
   "source": [
    "#### 4. Write a Python Program to take user input and do the following."
   ]
  },
  {
   "cell_type": "markdown",
   "metadata": {},
   "source": [
    "**Example:**\n",
    "\n",
    "Input:\n",
    "\n",
    "    User's name: 'RaGhaV'\n",
    "    \n",
    "Outputs:\n",
    "\n",
    "    Output 1: 'Welcome, raghav'\n",
    "    Output 1: 'Hi, Raghav. Was it a Rainy Day?'\n",
    "    Output 2: 'Hi, RAGHAV. Was it a Sunny Day?'\n",
    "    Output 3: 'Hi, Buddy. Was it a great day?'\n",
    "    \n",
    "Note:\n",
    "    \n",
    "    - User input shall be changed to lower case\n",
    "    - The input is same for all the outputs\n",
    "    - The outputs shall be from one next to another"
   ]
  },
  {
   "cell_type": "code",
   "execution_count": null,
   "metadata": {},
   "outputs": [],
   "source": []
  },
  {
   "cell_type": "code",
   "execution_count": null,
   "metadata": {},
   "outputs": [],
   "source": []
  },
  {
   "cell_type": "code",
   "execution_count": null,
   "metadata": {},
   "outputs": [],
   "source": []
  },
  {
   "cell_type": "code",
   "execution_count": null,
   "metadata": {},
   "outputs": [],
   "source": []
  },
  {
   "cell_type": "markdown",
   "metadata": {},
   "source": [
    "#### 5. Write a Python Program to print the alphabet in reverse."
   ]
  },
  {
   "cell_type": "code",
   "execution_count": null,
   "metadata": {},
   "outputs": [],
   "source": []
  },
  {
   "cell_type": "code",
   "execution_count": null,
   "metadata": {},
   "outputs": [],
   "source": []
  },
  {
   "cell_type": "code",
   "execution_count": null,
   "metadata": {},
   "outputs": [],
   "source": []
  }
 ],
 "metadata": {
  "kernelspec": {
   "display_name": "Python 3",
   "language": "python",
   "name": "python3"
  },
  "language_info": {
   "codemirror_mode": {
    "name": "ipython",
    "version": 3
   },
   "file_extension": ".py",
   "mimetype": "text/x-python",
   "name": "python",
   "nbconvert_exporter": "python",
   "pygments_lexer": "ipython3",
   "version": "3.7.6"
  }
 },
 "nbformat": 4,
 "nbformat_minor": 4
}
